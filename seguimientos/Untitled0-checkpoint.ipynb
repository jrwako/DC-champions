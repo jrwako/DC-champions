{
 "cells": [
  {
   "cell_type": "markdown",
   "metadata": {
    "id": "RjU_VyOSfiC_"
   },
   "source": [
    "<!-- TITULOS -->\n",
    "# H1 \n",
    "## H2\n",
    "### H3\n",
    "#### H4\n",
    "\n",
    "*texto en cursiva*\n",
    "\n",
    "**texto en negritas**\n",
    "\n",
    " ~~Texto tachado~~\n",
    "\n",
    " Lista des-ordenada\n",
    "\n",
    " * uno\n",
    "  * uno punto uno \n",
    " * ocho \n",
    "\n",
    " lista ordenada \n",
    "\n",
    " 1. uno \n",
    "  1. uno punto uno \n",
    "  2. uno punto dos\n",
    " 2. dos \n",
    " 3. tres \n",
    "\n",
    " [facebook]( www.facebook.com \" Aqui puedes agregar una etiqueta demas \")\n",
    "\n",
    " >Asi puedes hacer citas textuales \n",
    "\n",
    " Para crear Diviciones usamos tres lineas \"---\"\n",
    " ---\n",
    " ___\n",
    "\n",
    " para escribir en modo codigo \n",
    "\n",
    "``` html \n",
    "<h1> buen dia <\\h1>\n",
    "```\n",
    "##Crear una tabla \n",
    "\n",
    "|ID|nombre|apellido|\n",
    "|--|------|--------|\n",
    "|01|César|Vieyra|\n",
    "|02|Roberto|Reyes|\n",
    "|03|Fernando|cantu|\n",
    "\n",
    "![FCFM logo](https://pbs.twimg.com/profile_images/431539276707160065/8Vlj4URO_400x400.png \"Logo de la facultad de fcfm \")\n",
    "\n",
    "\n",
    "Tarea 1 \n",
    "\n",
    "* [x] Aprender MD\n",
    "* [x] Aprender git\n",
    "* [ ] dif virtualenv o conda\n",
    " \n",
    "\n",
    "\n",
    "\n"
   ]
  },
  {
   "cell_type": "code",
   "execution_count": 1,
   "metadata": {
    "id": "PYWmWpSRiGEq"
   },
   "outputs": [],
   "source": [
    "x=4\n"
   ]
  }
 ],
 "metadata": {
  "colab": {
   "name": "Untitled0.ipynb",
   "provenance": []
  },
  "kernelspec": {
   "display_name": "Python 3",
   "language": "python",
   "name": "python3"
  },
  "language_info": {
   "codemirror_mode": {
    "name": "ipython",
    "version": 3
   },
   "file_extension": ".py",
   "mimetype": "text/x-python",
   "name": "python",
   "nbconvert_exporter": "python",
   "pygments_lexer": "ipython3",
   "version": "3.8.3"
  }
 },
 "nbformat": 4,
 "nbformat_minor": 1
}
